{
 "cells": [
  {
   "cell_type": "markdown",
   "metadata": {},
   "source": [
    "# Name : ABDURRAHMAN (Data Science & Business Analytics Intern)\n",
    "\n",
    "## @ The Sparks Foundation \n",
    "\n",
    "## Task 3 - Social Distancing Detector  (COMPUTER VISION & INTERNET OF THINGS TASK)\n",
    "\n",
    "### Description of the task3:-\n",
    "\n",
    "**Implement a real time Social Distancing detector which can identify the\n",
    "distance between two individuals in a crowd.**\n"
   ]
  },
  {
   "cell_type": "code",
   "execution_count": 2,
   "metadata": {},
   "outputs": [],
   "source": [
    "import cv2\n",
    "from scipy.spatial import distance as dist  #importing libraries"
   ]
  },
  {
   "cell_type": "code",
   "execution_count": 3,
   "metadata": {},
   "outputs": [
    {
     "ename": "KeyboardInterrupt",
     "evalue": "",
     "output_type": "error",
     "traceback": [
      "\u001b[1;31m---------------------------------------------------------------------------\u001b[0m",
      "\u001b[1;31mKeyboardInterrupt\u001b[0m                         Traceback (most recent call last)",
      "\u001b[1;32m<ipython-input-3-a9672fd55437>\u001b[0m in \u001b[0;36m<module>\u001b[1;34m()\u001b[0m\n\u001b[0;32m      5\u001b[0m \u001b[1;32mwhile\u001b[0m \u001b[1;32mTrue\u001b[0m\u001b[1;33m:\u001b[0m\u001b[1;33m\u001b[0m\u001b[0m\n\u001b[0;32m      6\u001b[0m     \u001b[0mstatus\u001b[0m \u001b[1;33m,\u001b[0m \u001b[0mphoto\u001b[0m \u001b[1;33m=\u001b[0m \u001b[0mcap\u001b[0m\u001b[1;33m.\u001b[0m\u001b[0mread\u001b[0m\u001b[1;33m(\u001b[0m\u001b[1;33m)\u001b[0m\u001b[1;33m\u001b[0m\u001b[0m\n\u001b[1;32m----> 7\u001b[1;33m     \u001b[0mface_cor\u001b[0m \u001b[1;33m=\u001b[0m \u001b[0mface_model\u001b[0m\u001b[1;33m.\u001b[0m\u001b[0mdetectMultiScale\u001b[0m\u001b[1;33m(\u001b[0m\u001b[0mphoto\u001b[0m\u001b[1;33m)\u001b[0m  \u001b[1;31m#the detection is done using this detectmultiscale which returns boundary rectangles for the detected faces\u001b[0m\u001b[1;33m\u001b[0m\u001b[0m\n\u001b[0m\u001b[0;32m      8\u001b[0m     \u001b[0ml\u001b[0m \u001b[1;33m=\u001b[0m \u001b[0mlen\u001b[0m\u001b[1;33m(\u001b[0m\u001b[0mface_cor\u001b[0m\u001b[1;33m)\u001b[0m\u001b[1;33m\u001b[0m\u001b[0m\n\u001b[0;32m      9\u001b[0m     \u001b[0mphoto\u001b[0m \u001b[1;33m=\u001b[0m \u001b[0mcv2\u001b[0m\u001b[1;33m.\u001b[0m\u001b[0mputText\u001b[0m\u001b[1;33m(\u001b[0m\u001b[0mphoto\u001b[0m\u001b[1;33m,\u001b[0m \u001b[0mstr\u001b[0m\u001b[1;33m(\u001b[0m\u001b[0mlen\u001b[0m\u001b[1;33m(\u001b[0m\u001b[0mface_cor\u001b[0m\u001b[1;33m)\u001b[0m\u001b[1;33m)\u001b[0m\u001b[1;33m+\u001b[0m\u001b[1;34m\" Face\"\u001b[0m\u001b[1;33m,\u001b[0m \u001b[1;33m(\u001b[0m\u001b[1;36m50\u001b[0m\u001b[1;33m,\u001b[0m \u001b[1;36m50\u001b[0m\u001b[1;33m)\u001b[0m\u001b[1;33m,\u001b[0m \u001b[0mcv2\u001b[0m\u001b[1;33m.\u001b[0m\u001b[0mFONT_HERSHEY_SIMPLEX\u001b[0m\u001b[1;33m,\u001b[0m\u001b[1;36m1\u001b[0m\u001b[1;33m,\u001b[0m \u001b[1;33m(\u001b[0m\u001b[1;36m255\u001b[0m\u001b[1;33m,\u001b[0m \u001b[1;36m0\u001b[0m\u001b[1;33m,\u001b[0m \u001b[1;36m0\u001b[0m\u001b[1;33m)\u001b[0m \u001b[1;33m,\u001b[0m \u001b[1;36m2\u001b[0m\u001b[1;33m,\u001b[0m \u001b[0mcv2\u001b[0m\u001b[1;33m.\u001b[0m\u001b[0mLINE_AA\u001b[0m\u001b[1;33m)\u001b[0m\u001b[1;33m\u001b[0m\u001b[0m\n",
      "\u001b[1;31mKeyboardInterrupt\u001b[0m: "
     ]
    }
   ],
   "source": [
    "cap = cv2.VideoCapture(0)  #to start webcam and capture video \n",
    "face_model = cv2.CascadeClassifier('C:\\\\Users\\hp\\\\AppData\\\\Local\\\\Programs\\\\Python\\\\Python35\\\\Lib\\\\site-packages\\\\cv2\\\\data\\\\haarcascade_frontalface_default.xml')\n",
    "# Loading the harrcascade file and creating the classifier\n",
    "  \n",
    "while True:\n",
    "    status , photo = cap.read()\n",
    "    face_cor = face_model.detectMultiScale(photo)  #the detection is done using this detectmultiscale which returns boundary rectangles for the detected faces\n",
    "    l = len(face_cor)\n",
    "    photo = cv2.putText(photo, str(len(face_cor))+\" Face\", (50, 50), cv2.FONT_HERSHEY_SIMPLEX,1, (255, 0, 0) , 2, cv2.LINE_AA)\n",
    "    stack_x = []\n",
    "    stack_y = []\n",
    "    stack_x_print = []\n",
    "    stack_y_print = []\n",
    "    global D\n",
    "\n",
    "    if len(face_cor) == 0:\n",
    "        pass\n",
    "    else:\n",
    "        for i in range(0,len(face_cor)):\n",
    "            x1 = face_cor[i][0]\n",
    "            y1 = face_cor[i][1]\n",
    "            x2 = face_cor[i][0] + face_cor[i][2]\n",
    "            y2 = face_cor[i][1] + face_cor[i][3]\n",
    "\n",
    "            mid_x = int((x1+x2)/2)\n",
    "            mid_y = int((y1+y2)/2)\n",
    "            stack_x.append(mid_x)                           #positioning of the rectangle around the face\n",
    "            stack_y.append(mid_y)\n",
    "            stack_x_print.append(mid_x)\n",
    "            stack_y_print.append(mid_y)\n",
    "\n",
    "            photo = cv2.circle(photo, (mid_x, mid_y), 3 , [255,0,0] , -1)\n",
    "            photo = cv2.rectangle(photo , (x1, y1) , (x2,y2) , [0,255,0] , 2)\n",
    "\n",
    "        if len(face_cor) == 2:\n",
    "            D = int(dist.euclidean((stack_x.pop(), stack_y.pop()), (stack_x.pop(), stack_y.pop())))  #calculate the distance\n",
    "            photo = cv2.line(photo, (stack_x_print.pop(), stack_y_print.pop()), (stack_x_print.pop(), stack_y_print.pop()), [0,0,255], 2)\n",
    "        else:\n",
    "            D = 0\n",
    "\n",
    "        if D<250 and D!=0:           #codition to check if face somone is close it will flash the sign\n",
    "            photo = cv2.putText(photo, \"Too close! Maintain Distance please\", (100, 100), cv2.FONT_HERSHEY_SIMPLEX,0.8, [0,0,255] , 2)\n",
    "\n",
    "        photo = cv2.putText(photo, str(D/10) + \" cm\", (300, 50), cv2.FONT_HERSHEY_SIMPLEX,\n",
    "                   1, (255, 0, 0) , 2, cv2.LINE_AA)             #displaying the distance in cm\n",
    "\n",
    "        cv2.imshow('hi' , photo)\n",
    "        if cv2.waitKey(100) == 13:\n",
    "            break\n",
    "\n",
    "cv2.destroyAllWindows()\n",
    "\n"
   ]
  },
  {
   "cell_type": "code",
   "execution_count": 4,
   "metadata": {},
   "outputs": [],
   "source": [
    "cap.release()  #for releasing the camera"
   ]
  },
  {
   "cell_type": "code",
   "execution_count": null,
   "metadata": {},
   "outputs": [],
   "source": []
  }
 ],
 "metadata": {
  "kernelspec": {
   "display_name": "Python 3",
   "language": "python",
   "name": "python3"
  },
  "language_info": {
   "codemirror_mode": {
    "name": "ipython",
    "version": 3
   },
   "file_extension": ".py",
   "mimetype": "text/x-python",
   "name": "python",
   "nbconvert_exporter": "python",
   "pygments_lexer": "ipython3",
   "version": "3.6.5"
  }
 },
 "nbformat": 4,
 "nbformat_minor": 2
}
